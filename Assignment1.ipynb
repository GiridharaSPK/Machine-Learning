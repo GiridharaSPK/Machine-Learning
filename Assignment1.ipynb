{
 "cells": [
  {
   "cell_type": "code",
   "execution_count": 1,
   "metadata": {
    "collapsed": true
   },
   "outputs": [],
   "source": [
    "import numpy as np\n",
    "import matplotlib.pyplot as plt\n",
    "import pandas as pd"
   ]
  },
  {
   "cell_type": "code",
   "execution_count": 2,
   "metadata": {
    "collapsed": true
   },
   "outputs": [],
   "source": [
    "dataset = pd.read_csv('data_missingValues.csv')#reading the input"
   ]
  },
  {
   "cell_type": "code",
   "execution_count": 3,
   "metadata": {
    "collapsed": true
   },
   "outputs": [],
   "source": [
    "zero_data = dataset.iloc[:,6:7].values#selecting only the required row\n",
    "mean_data = dataset.iloc[:,6:7].values\n",
    "median_data = dataset.iloc[:,6:7].values\n",
    "most_frequent_data = dataset.iloc[:,6:7].values"
   ]
  },
  {
   "cell_type": "code",
   "execution_count": 4,
   "metadata": {
    "collapsed": true
   },
   "outputs": [],
   "source": [
    "zero_data = np.delete(zero_data,0)#deletinig the headiing row and only numbers/floats are left\n",
    "mean_data= np.delete(mean_data,0)\n",
    "median_data = np.delete(median_data,0)\n",
    "most_frequent_data = np.delete(most_frequent_data,0)"
   ]
  },
  {
   "cell_type": "code",
   "execution_count": 5,
   "metadata": {
    "collapsed": true
   },
   "outputs": [],
   "source": [
    "zero_data[pd.isnull(zero_data)]  = 0 #replaceing nans with zeros"
   ]
  },
  {
   "cell_type": "code",
   "execution_count": 6,
   "metadata": {
    "collapsed": true
   },
   "outputs": [],
   "source": [
    "mean_data = mean_data.reshape(-1,1)\n",
    "median_data = median_data.reshape(-1,1)\n",
    "most_frequent_data = most_frequent_data.reshape(-1,1)"
   ]
  },
  {
   "cell_type": "code",
   "execution_count": 7,
   "metadata": {
    "collapsed": true
   },
   "outputs": [],
   "source": [
    "from sklearn.preprocessing import Imputer #replaceing nans with mean values\n",
    "imputer = Imputer(missing_values = 'NaN',strategy = 'mean', axis = 0)\n",
    "imputer.fit(mean_data[:])\n",
    "mean_data[:] = imputer.transform(mean_data[:])"
   ]
  },
  {
   "cell_type": "code",
   "execution_count": 8,
   "metadata": {
    "collapsed": true
   },
   "outputs": [],
   "source": [
    "from sklearn.preprocessing import Imputer #replaceing nans with median\n",
    "imputer = Imputer(missing_values = 'NaN',strategy = 'median', axis = 0)\n",
    "imputer.fit(median_data[:])\n",
    "median_data[:] = imputer.transform(median_data[:])"
   ]
  },
  {
   "cell_type": "code",
   "execution_count": 9,
   "metadata": {
    "collapsed": true
   },
   "outputs": [],
   "source": [
    "from sklearn.preprocessing import Imputer #replaceing nans with mode\n",
    "imputer = Imputer(missing_values = 'NaN',strategy = 'most_frequent', axis = 0)\n",
    "imputer.fit(most_frequent_data[:])\n",
    "most_frequent_data[:] = imputer.transform(most_frequent_data[:])"
   ]
  },
  {
   "cell_type": "code",
   "execution_count": 10,
   "metadata": {
    "collapsed": true
   },
   "outputs": [],
   "source": [
    "def guassianCurve(mean,std): \n",
    "    return (1/(std * np.sqrt(2 * np.pi)) * np.exp( - (x - mean)**2 / (2 * std**2)))"
   ]
  },
  {
   "cell_type": "code",
   "execution_count": 11,
   "metadata": {
    "collapsed": true
   },
   "outputs": [],
   "source": [
    "mean_zero_data = np.mean(zero_data, axis=0)\n",
    "std_zero_data = np.std(zero_data, axis=0)\n",
    "mean_mean_data = np.mean(mean_data,axis=0)\n",
    "std_mean_data = np.std(mean_data, axis=0)\n",
    "mean_median_data = np.mean(median_data,axis=0)\n",
    "std_median_data = np.std(median_data,axis=0)\n",
    "mean_most_frequent_data = np.mean(most_frequent_data,axis = 0)\n",
    "std_most_frequent_data = np.std(most_frequent_data,axis=0)"
   ]
  },
  {
   "cell_type": "code",
   "execution_count": 12,
   "metadata": {},
   "outputs": [
    {
     "data": {
      "image/png": "[encoded data removed]",
      "text/plain": [
       "<matplotlib.figure.Figure at 0x7ff957661438>"
      ]
     },
     "metadata": {},
     "output_type": "display_data"
    }
   ],
   "source": [
    "# x = np.arange(0.0,5.0,0.1)\n",
    "# plt.figure(figsize=(10,10))\n",
    "x=np.linspace(-5,25,100)\n",
    "plt.title(\"Guassian distribution curve\")\n",
    "plt.plot(x,guassianCurve(mean_zero_data,std_zero_data),'r')\n",
    "plt.plot(x,guassianCurve(mean_mean_data,std_mean_data),'g')\n",
    "plt.plot(x,guassianCurve(mean_median_data,std_median_data),'m')\n",
    "plt.plot(x,guassianCurve(mean_most_frequent_data,std_most_frequent_data),'b')\n",
    "plt.legend()\n",
    "plt.show()"
   ]
  },
  {
   "cell_type": "code",
   "execution_count": null,
   "metadata": {
    "collapsed": true
   },
   "outputs": [],
   "source": []
  }
 ],
 "metadata": {
  "kernelspec": {
   "display_name": "Python 3",
   "language": "python",
   "name": "python3"
  },
  "language_info": {
   "codemirror_mode": {
    "name": "ipython",
    "version": 3
   },
   "file_extension": ".py",
   "mimetype": "text/x-python",
   "name": "python",
   "nbconvert_exporter": "python",
   "pygments_lexer": "ipython3",
   "version": "3.6.3"
  }
 },
 "nbformat": 4,
 "nbformat_minor": 2
}
